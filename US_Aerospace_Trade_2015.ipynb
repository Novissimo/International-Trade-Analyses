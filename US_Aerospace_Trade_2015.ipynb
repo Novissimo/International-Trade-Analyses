{
 "cells": [
  {
   "cell_type": "markdown",
   "metadata": {},
   "source": [
    "### Exploring the USA's Aerospace Industry Imports and Exports\n",
    "\n",
    "by Tony Hirst, Michel Wermelinger and Bryan Novy 19 November 2015, 28 March 2016, 9 July 2016\n",
    "\n",
    "This is the project notebook for Week 4 of The Open University's [_Learn to Code for Data Analysis_](http://futurelearn.com/courses/learn-to-code) course."
   ]
  },
  {
   "cell_type": "markdown",
   "metadata": {},
   "source": [
    "The United States is often assumed to now be a nation of importers, having shut down its manufacturing sectors decades ago. This is a misconception, however, as the US is one of the leaders in designing and manufacturing aircraft and associated parts. This article will examine the trade flows of aerospace technology into and out of the United States in 2015.\n",
    "\n",
    "Foreign trade is often one of the largest and most critically important aspects of a nation's economy. Changes to a nation's imports and exports can have a drastic effect on economic growth. This makes trade one of the most interesting fields of economics to study.\n",
    "\n",
    "One useful source for global trade data is the United Nations Comtrade database, and will be the source for the data in this article.\n",
    "\n",
    "Some questions that will be addressed here:\n",
    "\n",
    "What is the state of US trade balance in terms of the aerospace industry? Does it export more or import more? Who are America's top aerospace trade partners? Are there countries that the US both exports to and imports from?"
   ]
  },
  {
   "cell_type": "code",
   "execution_count": 54,
   "metadata": {
    "activity": false,
    "collapsed": false
   },
   "outputs": [],
   "source": [
    "import warnings\n",
    "warnings.simplefilter('ignore', FutureWarning)\n",
    "\n",
    "from pandas import *\n",
    "\n",
    "import pandas as pd\n",
    "from pandas import Series,DataFrame\n",
    "\n",
    "import matplotlib.pyplot as plt\n",
    "import seaborn as sns\n",
    "sns.set_style('whitegrid')\n",
    "%matplotlib inline"
   ]
  },
  {
   "cell_type": "markdown",
   "metadata": {},
   "source": [
    "## Getting and preparing the data\n",
    "\n",
    "The data is obtained from the [United Nations Comtrade](http://comtrade.un.org/data/) website, by selecting the following configuration:\n",
    "\n",
    "- Type of Product: goods\n",
    "- Frequency: monthly \n",
    "- Periods: January to December of 2015\n",
    "- Reporter: United States\n",
    "- Partners: all\n",
    "- Flows: imports and exports\n",
    "- HS (as reported) commodity codes: 88 Aircraft, spacecraft, and parts thereof. 840710 Aircraft Engines, spark-ignition’\n",
    "\n",
    "Clicking on 'Preview' results in a message that the data exceeds 500 rows. Data was downloaded using the *Download CSV* button and the download file renamed appropriately."
   ]
  },
  {
   "cell_type": "code",
   "execution_count": 55,
   "metadata": {
    "collapsed": true
   },
   "outputs": [],
   "source": [
    "LOCATION = 'comtrade_US_Aero_Trade_2015_2.csv'"
   ]
  },
  {
   "cell_type": "markdown",
   "metadata": {},
   "source": [
    "The data can also be downloaded directly from Comtrade using the \"View API Call\" URL, modified in two ways:\n",
    "\n",
    "- `max=500` is increased to `max=5000` to make sure all data is loaded,\n",
    "- `&fmt=csv` is added at the end to obtain the data in CSV format."
   ]
  },
  {
   "cell_type": "code",
   "execution_count": 56,
   "metadata": {
    "collapsed": true
   },
   "outputs": [],
   "source": [
    "# LOCATION = 'http://comtrade.un.org/api/get?max=5000&type=C&freq=M&px=HS&ps=2015&r=842&p=all&rg=2%2C1&cc=88%2C840710&fmt=csv'"
   ]
  },
  {
   "cell_type": "markdown",
   "metadata": {},
   "source": [
    "On reading in the data, the commodity code has to be read as a string, to not lose the leading zero."
   ]
  },
  {
   "cell_type": "code",
   "execution_count": 57,
   "metadata": {
    "activity": false,
    "collapsed": false,
    "scrolled": true
   },
   "outputs": [
    {
     "data": {
      "text/html": [
       "<div>\n",
       "<table border=\"1\" class=\"dataframe\">\n",
       "  <thead>\n",
       "    <tr style=\"text-align: right;\">\n",
       "      <th></th>\n",
       "      <th>Classification</th>\n",
       "      <th>Year</th>\n",
       "      <th>Period</th>\n",
       "      <th>Period Desc.</th>\n",
       "      <th>Aggregate Level</th>\n",
       "      <th>Is Leaf Code</th>\n",
       "      <th>Trade Flow Code</th>\n",
       "      <th>Trade Flow</th>\n",
       "      <th>Reporter Code</th>\n",
       "      <th>Reporter</th>\n",
       "      <th>...</th>\n",
       "      <th>Qty</th>\n",
       "      <th>Alt Qty Unit Code</th>\n",
       "      <th>Alt Qty Unit</th>\n",
       "      <th>Alt Qty</th>\n",
       "      <th>Netweight (kg)</th>\n",
       "      <th>Gross weight (kg)</th>\n",
       "      <th>Trade Value (US$)</th>\n",
       "      <th>CIF Trade Value (US$)</th>\n",
       "      <th>FOB Trade Value (US$)</th>\n",
       "      <th>Flag</th>\n",
       "    </tr>\n",
       "  </thead>\n",
       "  <tbody>\n",
       "    <tr>\n",
       "      <th>0</th>\n",
       "      <td>HS</td>\n",
       "      <td>2015</td>\n",
       "      <td>201501</td>\n",
       "      <td>January 2015</td>\n",
       "      <td>6</td>\n",
       "      <td>1</td>\n",
       "      <td>2</td>\n",
       "      <td>Exports</td>\n",
       "      <td>842</td>\n",
       "      <td>United States of America</td>\n",
       "      <td>...</td>\n",
       "      <td>NaN</td>\n",
       "      <td>NaN</td>\n",
       "      <td>NaN</td>\n",
       "      <td>NaN</td>\n",
       "      <td>NaN</td>\n",
       "      <td>NaN</td>\n",
       "      <td>50837</td>\n",
       "      <td>NaN</td>\n",
       "      <td>NaN</td>\n",
       "      <td>0</td>\n",
       "    </tr>\n",
       "    <tr>\n",
       "      <th>1</th>\n",
       "      <td>HS</td>\n",
       "      <td>2015</td>\n",
       "      <td>201501</td>\n",
       "      <td>January 2015</td>\n",
       "      <td>6</td>\n",
       "      <td>1</td>\n",
       "      <td>2</td>\n",
       "      <td>Exports</td>\n",
       "      <td>842</td>\n",
       "      <td>United States of America</td>\n",
       "      <td>...</td>\n",
       "      <td>NaN</td>\n",
       "      <td>NaN</td>\n",
       "      <td>NaN</td>\n",
       "      <td>NaN</td>\n",
       "      <td>NaN</td>\n",
       "      <td>NaN</td>\n",
       "      <td>73000</td>\n",
       "      <td>NaN</td>\n",
       "      <td>NaN</td>\n",
       "      <td>0</td>\n",
       "    </tr>\n",
       "  </tbody>\n",
       "</table>\n",
       "<p>2 rows × 35 columns</p>\n",
       "</div>"
      ],
      "text/plain": [
       "  Classification  Year  Period  Period Desc.  Aggregate Level  Is Leaf Code  \\\n",
       "0             HS  2015  201501  January 2015                6             1   \n",
       "1             HS  2015  201501  January 2015                6             1   \n",
       "\n",
       "   Trade Flow Code Trade Flow  Reporter Code                  Reporter  ...   \\\n",
       "0                2    Exports            842  United States of America  ...    \n",
       "1                2    Exports            842  United States of America  ...    \n",
       "\n",
       "   Qty  Alt Qty Unit Code Alt Qty Unit  Alt Qty  Netweight (kg)  \\\n",
       "0  NaN                NaN          NaN      NaN             NaN   \n",
       "1  NaN                NaN          NaN      NaN             NaN   \n",
       "\n",
       "   Gross weight (kg)  Trade Value (US$)  CIF Trade Value (US$)  \\\n",
       "0                NaN              50837                    NaN   \n",
       "1                NaN              73000                    NaN   \n",
       "\n",
       "   FOB Trade Value (US$)  Flag  \n",
       "0                    NaN     0  \n",
       "1                    NaN     0  \n",
       "\n",
       "[2 rows x 35 columns]"
      ]
     },
     "execution_count": 57,
     "metadata": {},
     "output_type": "execute_result"
    }
   ],
   "source": [
    "aero = read_csv(LOCATION, dtype={'Commodity Code':str})\n",
    "aero\n",
    "aero.head(2)"
   ]
  },
  {
   "cell_type": "markdown",
   "metadata": {},
   "source": [
    "Most columns are irrelevant for this analysis, or contain always the same value, like the year and reporter columns. Only the relevant columns are selected."
   ]
  },
  {
   "cell_type": "code",
   "execution_count": 58,
   "metadata": {
    "collapsed": true
   },
   "outputs": [],
   "source": [
    "COLUMNS = ['Year', 'Period','Trade Flow','Reporter', 'Partner', 'Commodity','Commodity Code','Trade Value (US$)']\n",
    "aero = aero[COLUMNS]"
   ]
  },
  {
   "cell_type": "code",
   "execution_count": 79,
   "metadata": {
    "collapsed": false,
    "scrolled": true
   },
   "outputs": [
    {
     "data": {
      "text/html": [
       "<div>\n",
       "<table border=\"1\" class=\"dataframe\">\n",
       "  <thead>\n",
       "    <tr style=\"text-align: right;\">\n",
       "      <th></th>\n",
       "      <th>Period</th>\n",
       "      <th>Partner</th>\n",
       "      <th>Trade Flow</th>\n",
       "      <th>Commodity</th>\n",
       "      <th>Trade Value (US$)</th>\n",
       "    </tr>\n",
       "  </thead>\n",
       "  <tbody>\n",
       "    <tr>\n",
       "      <th>0</th>\n",
       "      <td>201501</td>\n",
       "      <td>Rep. of Korea</td>\n",
       "      <td>Exports</td>\n",
       "      <td>Aircraft Engine</td>\n",
       "      <td>50837</td>\n",
       "    </tr>\n",
       "    <tr>\n",
       "      <th>1</th>\n",
       "      <td>201501</td>\n",
       "      <td>Luxembourg</td>\n",
       "      <td>Exports</td>\n",
       "      <td>Aircraft Engine</td>\n",
       "      <td>73000</td>\n",
       "    </tr>\n",
       "    <tr>\n",
       "      <th>2</th>\n",
       "      <td>201501</td>\n",
       "      <td>Mexico</td>\n",
       "      <td>Exports</td>\n",
       "      <td>Aircraft Engine</td>\n",
       "      <td>87127</td>\n",
       "    </tr>\n",
       "    <tr>\n",
       "      <th>3</th>\n",
       "      <td>201501</td>\n",
       "      <td>Morocco</td>\n",
       "      <td>Exports</td>\n",
       "      <td>Aircraft Engine</td>\n",
       "      <td>60569</td>\n",
       "    </tr>\n",
       "    <tr>\n",
       "      <th>4</th>\n",
       "      <td>201501</td>\n",
       "      <td>Netherlands</td>\n",
       "      <td>Exports</td>\n",
       "      <td>Aircraft Engine</td>\n",
       "      <td>105568</td>\n",
       "    </tr>\n",
       "  </tbody>\n",
       "</table>\n",
       "</div>"
      ],
      "text/plain": [
       "   Period        Partner Trade Flow        Commodity  Trade Value (US$)\n",
       "0  201501  Rep. of Korea    Exports  Aircraft Engine              50837\n",
       "1  201501     Luxembourg    Exports  Aircraft Engine              73000\n",
       "2  201501         Mexico    Exports  Aircraft Engine              87127\n",
       "3  201501        Morocco    Exports  Aircraft Engine              60569\n",
       "4  201501    Netherlands    Exports  Aircraft Engine             105568"
      ]
     },
     "execution_count": 79,
     "metadata": {},
     "output_type": "execute_result"
    }
   ],
   "source": [
    "aero.head()"
   ]
  },
  {
   "cell_type": "code",
   "execution_count": 60,
   "metadata": {
    "collapsed": true
   },
   "outputs": [],
   "source": [
    "aero_world = aero[aero['Partner'] == 'World']\n",
    "aero_countries = aero[aero['Partner'] != 'World']"
   ]
  },
  {
   "cell_type": "code",
   "execution_count": 61,
   "metadata": {
    "activity": false,
    "collapsed": false
   },
   "outputs": [
    {
     "data": {
      "text/html": [
       "<div>\n",
       "<table border=\"1\" class=\"dataframe\">\n",
       "  <thead>\n",
       "    <tr style=\"text-align: right;\">\n",
       "      <th></th>\n",
       "      <th>Period</th>\n",
       "      <th>Partner</th>\n",
       "      <th>Trade Flow</th>\n",
       "      <th>Commodity</th>\n",
       "      <th>Trade Value (US$)</th>\n",
       "    </tr>\n",
       "  </thead>\n",
       "  <tbody>\n",
       "    <tr>\n",
       "      <th>0</th>\n",
       "      <td>201501</td>\n",
       "      <td>Rep. of Korea</td>\n",
       "      <td>Exports</td>\n",
       "      <td>Aircraft Engine</td>\n",
       "      <td>50837</td>\n",
       "    </tr>\n",
       "    <tr>\n",
       "      <th>1</th>\n",
       "      <td>201501</td>\n",
       "      <td>Luxembourg</td>\n",
       "      <td>Exports</td>\n",
       "      <td>Aircraft Engine</td>\n",
       "      <td>73000</td>\n",
       "    </tr>\n",
       "    <tr>\n",
       "      <th>2</th>\n",
       "      <td>201501</td>\n",
       "      <td>Mexico</td>\n",
       "      <td>Exports</td>\n",
       "      <td>Aircraft Engine</td>\n",
       "      <td>87127</td>\n",
       "    </tr>\n",
       "    <tr>\n",
       "      <th>3</th>\n",
       "      <td>201501</td>\n",
       "      <td>Morocco</td>\n",
       "      <td>Exports</td>\n",
       "      <td>Aircraft Engine</td>\n",
       "      <td>60569</td>\n",
       "    </tr>\n",
       "    <tr>\n",
       "      <th>4</th>\n",
       "      <td>201501</td>\n",
       "      <td>Netherlands</td>\n",
       "      <td>Exports</td>\n",
       "      <td>Aircraft Engine</td>\n",
       "      <td>105568</td>\n",
       "    </tr>\n",
       "    <tr>\n",
       "      <th>5</th>\n",
       "      <td>201501</td>\n",
       "      <td>Singapore</td>\n",
       "      <td>Exports</td>\n",
       "      <td>Aircraft Engine</td>\n",
       "      <td>6050000</td>\n",
       "    </tr>\n",
       "    <tr>\n",
       "      <th>6</th>\n",
       "      <td>201501</td>\n",
       "      <td>Spain</td>\n",
       "      <td>Exports</td>\n",
       "      <td>Aircraft Engine</td>\n",
       "      <td>160521</td>\n",
       "    </tr>\n",
       "    <tr>\n",
       "      <th>7</th>\n",
       "      <td>201501</td>\n",
       "      <td>Sweden</td>\n",
       "      <td>Exports</td>\n",
       "      <td>Aircraft Engine</td>\n",
       "      <td>12971</td>\n",
       "    </tr>\n",
       "    <tr>\n",
       "      <th>8</th>\n",
       "      <td>201501</td>\n",
       "      <td>Turkey</td>\n",
       "      <td>Exports</td>\n",
       "      <td>Aircraft Engine</td>\n",
       "      <td>13164</td>\n",
       "    </tr>\n",
       "    <tr>\n",
       "      <th>9</th>\n",
       "      <td>201501</td>\n",
       "      <td>United Kingdom</td>\n",
       "      <td>Imports</td>\n",
       "      <td>Aircraft Engine</td>\n",
       "      <td>348014</td>\n",
       "    </tr>\n",
       "  </tbody>\n",
       "</table>\n",
       "</div>"
      ],
      "text/plain": [
       "   Period         Partner Trade Flow        Commodity  Trade Value (US$)\n",
       "0  201501   Rep. of Korea    Exports  Aircraft Engine              50837\n",
       "1  201501      Luxembourg    Exports  Aircraft Engine              73000\n",
       "2  201501          Mexico    Exports  Aircraft Engine              87127\n",
       "3  201501         Morocco    Exports  Aircraft Engine              60569\n",
       "4  201501     Netherlands    Exports  Aircraft Engine             105568\n",
       "5  201501       Singapore    Exports  Aircraft Engine            6050000\n",
       "6  201501           Spain    Exports  Aircraft Engine             160521\n",
       "7  201501          Sweden    Exports  Aircraft Engine              12971\n",
       "8  201501          Turkey    Exports  Aircraft Engine              13164\n",
       "9  201501  United Kingdom    Imports  Aircraft Engine             348014"
      ]
     },
     "execution_count": 61,
     "metadata": {},
     "output_type": "execute_result"
    }
   ],
   "source": [
    "def aeroType(code):\n",
    "    if code == '88': \n",
    "        return 'Aircraft'\n",
    "    if code == '840710': \n",
    "        return 'Aircraft Engine' \n",
    "    else:\n",
    "        return 'unknown'\n",
    "\n",
    "COMMODITY = 'Commodity'\n",
    "aero[COMMODITY] = aero['Commodity Code'].apply(aeroType)\n",
    "MONTH = 'Period'\n",
    "PARTNER = 'Partner'\n",
    "FLOW = 'Trade Flow'\n",
    "VALUE = 'Trade Value (US$)'\n",
    "headings = [MONTH, PARTNER, FLOW, COMMODITY, VALUE]\n",
    "aero = aero[headings]\n",
    "aero.head(10)"
   ]
  },
  {
   "cell_type": "markdown",
   "metadata": {},
   "source": [
    "The data contains the total imports and exports per month, under the 'World' partner. Those rows are removed to keep only the per-country data."
   ]
  },
  {
   "cell_type": "code",
   "execution_count": 62,
   "metadata": {
    "collapsed": false
   },
   "outputs": [],
   "source": [
    "aero_world = aero[aero['Partner']=='World']\n",
    "aero_countries = aero[aero['Partner'] != 'World']"
   ]
  },
  {
   "cell_type": "code",
   "execution_count": 63,
   "metadata": {
    "collapsed": false
   },
   "outputs": [
    {
     "data": {
      "text/html": [
       "<div>\n",
       "<table border=\"1\" class=\"dataframe\">\n",
       "  <thead>\n",
       "    <tr style=\"text-align: right;\">\n",
       "      <th></th>\n",
       "      <th>Period</th>\n",
       "      <th>Partner</th>\n",
       "      <th>Trade Flow</th>\n",
       "      <th>Commodity</th>\n",
       "      <th>Trade Value (US$)</th>\n",
       "    </tr>\n",
       "  </thead>\n",
       "  <tbody>\n",
       "    <tr>\n",
       "      <th>0</th>\n",
       "      <td>201501</td>\n",
       "      <td>Rep. of Korea</td>\n",
       "      <td>Exports</td>\n",
       "      <td>Aircraft Engine</td>\n",
       "      <td>50837</td>\n",
       "    </tr>\n",
       "    <tr>\n",
       "      <th>1</th>\n",
       "      <td>201501</td>\n",
       "      <td>Luxembourg</td>\n",
       "      <td>Exports</td>\n",
       "      <td>Aircraft Engine</td>\n",
       "      <td>73000</td>\n",
       "    </tr>\n",
       "    <tr>\n",
       "      <th>2</th>\n",
       "      <td>201501</td>\n",
       "      <td>Mexico</td>\n",
       "      <td>Exports</td>\n",
       "      <td>Aircraft Engine</td>\n",
       "      <td>87127</td>\n",
       "    </tr>\n",
       "    <tr>\n",
       "      <th>3</th>\n",
       "      <td>201501</td>\n",
       "      <td>Morocco</td>\n",
       "      <td>Exports</td>\n",
       "      <td>Aircraft Engine</td>\n",
       "      <td>60569</td>\n",
       "    </tr>\n",
       "    <tr>\n",
       "      <th>4</th>\n",
       "      <td>201501</td>\n",
       "      <td>Netherlands</td>\n",
       "      <td>Exports</td>\n",
       "      <td>Aircraft Engine</td>\n",
       "      <td>105568</td>\n",
       "    </tr>\n",
       "  </tbody>\n",
       "</table>\n",
       "</div>"
      ],
      "text/plain": [
       "   Period        Partner Trade Flow        Commodity  Trade Value (US$)\n",
       "0  201501  Rep. of Korea    Exports  Aircraft Engine              50837\n",
       "1  201501     Luxembourg    Exports  Aircraft Engine              73000\n",
       "2  201501         Mexico    Exports  Aircraft Engine              87127\n",
       "3  201501        Morocco    Exports  Aircraft Engine              60569\n",
       "4  201501    Netherlands    Exports  Aircraft Engine             105568"
      ]
     },
     "execution_count": 63,
     "metadata": {},
     "output_type": "execute_result"
    }
   ],
   "source": [
    "aero_countries.head()"
   ]
  },
  {
   "cell_type": "markdown",
   "metadata": {},
   "source": [
    "## Total trade flow\n",
    "\n",
    "To answer the first question, 'how much does the USA export and import and is the balance positive (more exports than imports)?',\n",
    "the dataframe is split into two groups: exports from the USA and imports into the USA. The  trade values within each group are summed up to get the total trading."
   ]
  },
  {
   "cell_type": "code",
   "execution_count": 64,
   "metadata": {
    "activity": false,
    "collapsed": false
   },
   "outputs": [
    {
     "data": {
      "text/plain": [
       "Trade Flow\n",
       "Exports    239318213382\n",
       "Imports     65152164482\n",
       "Name: Trade Value (US$), dtype: int64"
      ]
     },
     "execution_count": 64,
     "metadata": {},
     "output_type": "execute_result"
    }
   ],
   "source": [
    "grouped = aero.groupby([FLOW])\n",
    "grouped[VALUE].aggregate(sum)"
   ]
  },
  {
   "cell_type": "markdown",
   "metadata": {},
   "source": [
    "This shows a trade surplus of over 174.2 billion dollars."
   ]
  },
  {
   "cell_type": "markdown",
   "metadata": {},
   "source": [
    "## Main trade partners\n",
    "\n",
    "To address the second question, 'Which are the main trading partners, i.e. from/to which countries does the USA import/export the most?', the dataframe is split by country instead, and then each group aggregated for the total trade value. This is done separately for imports and exports. The result is sorted in descending order so that the main partners are at the top."
   ]
  },
  {
   "cell_type": "code",
   "execution_count": 67,
   "metadata": {
    "activity": false,
    "collapsed": false
   },
   "outputs": [
    {
     "name": "stdout",
     "output_type": "stream",
     "text": [
      "The US imports from 87 countries.\n",
      "The 10 biggest exporters to the US are:\n"
     ]
    },
    {
     "data": {
      "text/plain": [
       "Partner\n",
       "Canada            8020131879\n",
       "France            5235218994\n",
       "Japan             4410304783\n",
       "Germany           4185804272\n",
       "Brazil            2796023864\n",
       "United Kingdom    1214824441\n",
       "Mexico            1060368213\n",
       "Italy              924318036\n",
       "Israel             665737980\n",
       "Rep. of Korea      618874207\n",
       "Name: Trade Value (US$), dtype: int64"
      ]
     },
     "execution_count": 67,
     "metadata": {},
     "output_type": "execute_result"
    }
   ],
   "source": [
    "imports = aero_countries[aero_countries[FLOW] == 'Imports']\n",
    "grouped = imports.groupby([PARTNER])\n",
    "print('The US imports from', len(grouped), 'countries.')\n",
    "print('The 10 biggest exporters to the US are:')\n",
    "totalImports = grouped[VALUE].aggregate(sum).sort(inplace=False,ascending=False)\n",
    "totalImports.head(10)"
   ]
  },
  {
   "cell_type": "markdown",
   "metadata": {},
   "source": [
    "The export values can be plotted as a bar chart, making differences between countries easier to see."
   ]
  },
  {
   "cell_type": "code",
   "execution_count": 77,
   "metadata": {
    "collapsed": false
   },
   "outputs": [
    {
     "data": {
      "text/plain": [
       "<matplotlib.text.Text at 0x7f53d5bc93c8>"
      ]
     },
     "execution_count": 77,
     "metadata": {},
     "output_type": "execute_result"
    },
    {
     "data": {
      "image/png": "[encoded data removed]",
      "text/plain": [
       "<matplotlib.figure.Figure at 0x7f53d5d549e8>"
      ]
     },
     "metadata": {},
     "output_type": "display_data"
    }
   ],
   "source": [
    "importPlot = totalImports.head(10).plot(kind='barh',figsize=(10,8))\n",
    "importPlot.set_xlabel('Trade Value (in billions($))')\n",
    "importPlot.set_title('US Aerospace Trade Partners: Imports from',fontsize=15)"
   ]
  },
  {
   "cell_type": "code",
   "execution_count": 70,
   "metadata": {
    "activity": false,
    "collapsed": false
   },
   "outputs": [
    {
     "name": "stdout",
     "output_type": "stream",
     "text": [
      "The US exports to 206 countries.\n",
      "The 10 biggest importers from the US are:\n"
     ]
    },
    {
     "data": {
      "text/plain": [
       "Partner\n",
       "China                   14303821644\n",
       "France                   9725457634\n",
       "United Kingdom           8740175923\n",
       "Canada                   6872391294\n",
       "Japan                    6579615962\n",
       "Germany                  6174837938\n",
       "Singapore                5339173478\n",
       "United Arab Emirates     5260733421\n",
       "Brazil                   4359290177\n",
       "Rep. of Korea            4068615966\n",
       "Name: Trade Value (US$), dtype: int64"
      ]
     },
     "execution_count": 70,
     "metadata": {},
     "output_type": "execute_result"
    }
   ],
   "source": [
    "exports = aero_countries[aero_countries[FLOW] == 'Exports']\n",
    "grouped = exports.groupby([PARTNER])\n",
    "print('The US exports to', len(grouped), 'countries.')\n",
    "print('The 10 biggest importers from the US are:')\n",
    "totalExports = grouped[VALUE].aggregate(sum).order(ascending=False).head(10)\n",
    "totalExports.head(10)"
   ]
  },
  {
   "cell_type": "code",
   "execution_count": 81,
   "metadata": {
    "collapsed": false
   },
   "outputs": [
    {
     "data": {
      "text/plain": [
       "<matplotlib.text.Text at 0x7f53d5a71e80>"
      ]
     },
     "execution_count": 81,
     "metadata": {},
     "output_type": "execute_result"
    },
    {
     "data": {
      "image/png": "[encoded data removed]",
      "text/plain": [
       "<matplotlib.figure.Figure at 0x7f53d5b2d668>"
      ]
     },
     "metadata": {},
     "output_type": "display_data"
    }
   ],
   "source": [
    "exportPlot= totalExports.head(10).plot(kind='barh',figsize=(10,8))\n",
    "exportPlot.set_xlabel('Trade Value (in tens of billions($))')\n",
    "exportPlot.set_title('US Aerospace Trade Partners: Exports to',fontsize=15)"
   ]
  },
  {
   "cell_type": "markdown",
   "metadata": {},
   "source": [
    "## Bi-directional trade\n",
    "\n",
    "To address the fourth question, \n",
    "'Which countries does the US both import from and export to?', a pivot table is used to list the total export and import value for each country. "
   ]
  },
  {
   "cell_type": "code",
   "execution_count": 72,
   "metadata": {
    "activity": false,
    "collapsed": false
   },
   "outputs": [
    {
     "data": {
      "text/html": [
       "<div>\n",
       "<table border=\"1\" class=\"dataframe\">\n",
       "  <thead>\n",
       "    <tr style=\"text-align: right;\">\n",
       "      <th>Trade Flow</th>\n",
       "      <th>Exports</th>\n",
       "      <th>Imports</th>\n",
       "    </tr>\n",
       "    <tr>\n",
       "      <th>Partner</th>\n",
       "      <th></th>\n",
       "      <th></th>\n",
       "    </tr>\n",
       "  </thead>\n",
       "  <tbody>\n",
       "    <tr>\n",
       "      <th>Afghanistan</th>\n",
       "      <td>109194100.0</td>\n",
       "      <td>20144.0</td>\n",
       "    </tr>\n",
       "    <tr>\n",
       "      <th>Albania</th>\n",
       "      <td>11616.0</td>\n",
       "      <td>NaN</td>\n",
       "    </tr>\n",
       "    <tr>\n",
       "      <th>Algeria</th>\n",
       "      <td>137157742.0</td>\n",
       "      <td>NaN</td>\n",
       "    </tr>\n",
       "    <tr>\n",
       "      <th>Andorra</th>\n",
       "      <td>10693.0</td>\n",
       "      <td>NaN</td>\n",
       "    </tr>\n",
       "    <tr>\n",
       "      <th>Angola</th>\n",
       "      <td>34332223.0</td>\n",
       "      <td>NaN</td>\n",
       "    </tr>\n",
       "  </tbody>\n",
       "</table>\n",
       "</div>"
      ],
      "text/plain": [
       "Trade Flow       Exports  Imports\n",
       "Partner                          \n",
       "Afghanistan  109194100.0  20144.0\n",
       "Albania          11616.0      NaN\n",
       "Algeria      137157742.0      NaN\n",
       "Andorra          10693.0      NaN\n",
       "Angola        34332223.0      NaN"
      ]
     },
     "execution_count": 72,
     "metadata": {},
     "output_type": "execute_result"
    }
   ],
   "source": [
    "countries = pivot_table(aero, index=[PARTNER], columns=[FLOW], \n",
    "                        values=VALUE, aggfunc=sum)\n",
    "countries.head()"
   ]
  },
  {
   "cell_type": "markdown",
   "metadata": {},
   "source": [
    "Removing the rows with a missing value will result in only those countries with bi-directional trade flow with the US."
   ]
  },
  {
   "cell_type": "code",
   "execution_count": 73,
   "metadata": {
    "activity": false,
    "collapsed": false
   },
   "outputs": [
    {
     "data": {
      "text/html": [
       "<div>\n",
       "<table border=\"1\" class=\"dataframe\">\n",
       "  <thead>\n",
       "    <tr style=\"text-align: right;\">\n",
       "      <th>Trade Flow</th>\n",
       "      <th>Exports</th>\n",
       "      <th>Imports</th>\n",
       "    </tr>\n",
       "    <tr>\n",
       "      <th>Partner</th>\n",
       "      <th></th>\n",
       "      <th></th>\n",
       "    </tr>\n",
       "  </thead>\n",
       "  <tbody>\n",
       "    <tr>\n",
       "      <th>Afghanistan</th>\n",
       "      <td>1.091941e+08</td>\n",
       "      <td>2.014400e+04</td>\n",
       "    </tr>\n",
       "    <tr>\n",
       "      <th>Argentina</th>\n",
       "      <td>4.752256e+08</td>\n",
       "      <td>2.164540e+05</td>\n",
       "    </tr>\n",
       "    <tr>\n",
       "      <th>Australia</th>\n",
       "      <td>2.500375e+09</td>\n",
       "      <td>4.398146e+08</td>\n",
       "    </tr>\n",
       "    <tr>\n",
       "      <th>Austria</th>\n",
       "      <td>2.004885e+08</td>\n",
       "      <td>2.266043e+08</td>\n",
       "    </tr>\n",
       "    <tr>\n",
       "      <th>Bahamas</th>\n",
       "      <td>4.666452e+06</td>\n",
       "      <td>4.925000e+03</td>\n",
       "    </tr>\n",
       "    <tr>\n",
       "      <th>Belgium</th>\n",
       "      <td>3.811802e+08</td>\n",
       "      <td>5.153711e+07</td>\n",
       "    </tr>\n",
       "    <tr>\n",
       "      <th>Belize</th>\n",
       "      <td>8.897500e+05</td>\n",
       "      <td>6.451000e+03</td>\n",
       "    </tr>\n",
       "    <tr>\n",
       "      <th>Bolivia</th>\n",
       "      <td>1.236449e+08</td>\n",
       "      <td>1.837510e+05</td>\n",
       "    </tr>\n",
       "    <tr>\n",
       "      <th>Br. Virgin Isds</th>\n",
       "      <td>3.410660e+05</td>\n",
       "      <td>2.628000e+03</td>\n",
       "    </tr>\n",
       "    <tr>\n",
       "      <th>Brazil</th>\n",
       "      <td>4.359290e+09</td>\n",
       "      <td>2.796024e+09</td>\n",
       "    </tr>\n",
       "    <tr>\n",
       "      <th>Bulgaria</th>\n",
       "      <td>5.424833e+06</td>\n",
       "      <td>4.128700e+04</td>\n",
       "    </tr>\n",
       "    <tr>\n",
       "      <th>Cameroon</th>\n",
       "      <td>4.678062e+06</td>\n",
       "      <td>3.915800e+04</td>\n",
       "    </tr>\n",
       "    <tr>\n",
       "      <th>Canada</th>\n",
       "      <td>6.872391e+09</td>\n",
       "      <td>8.020132e+09</td>\n",
       "    </tr>\n",
       "    <tr>\n",
       "      <th>Chile</th>\n",
       "      <td>2.935820e+09</td>\n",
       "      <td>2.958760e+05</td>\n",
       "    </tr>\n",
       "    <tr>\n",
       "      <th>China</th>\n",
       "      <td>1.430382e+10</td>\n",
       "      <td>4.552288e+08</td>\n",
       "    </tr>\n",
       "    <tr>\n",
       "      <th>China, Hong Kong SAR</th>\n",
       "      <td>1.923699e+09</td>\n",
       "      <td>1.296117e+07</td>\n",
       "    </tr>\n",
       "    <tr>\n",
       "      <th>Colombia</th>\n",
       "      <td>6.648323e+08</td>\n",
       "      <td>2.558490e+05</td>\n",
       "    </tr>\n",
       "    <tr>\n",
       "      <th>Costa Rica</th>\n",
       "      <td>3.337291e+08</td>\n",
       "      <td>9.553970e+05</td>\n",
       "    </tr>\n",
       "    <tr>\n",
       "      <th>Croatia</th>\n",
       "      <td>1.552614e+06</td>\n",
       "      <td>4.979000e+03</td>\n",
       "    </tr>\n",
       "    <tr>\n",
       "      <th>Cyprus</th>\n",
       "      <td>2.573558e+07</td>\n",
       "      <td>2.039500e+04</td>\n",
       "    </tr>\n",
       "    <tr>\n",
       "      <th>Czech Rep.</th>\n",
       "      <td>1.530275e+08</td>\n",
       "      <td>6.230582e+07</td>\n",
       "    </tr>\n",
       "    <tr>\n",
       "      <th>Denmark</th>\n",
       "      <td>1.748187e+08</td>\n",
       "      <td>4.713222e+07</td>\n",
       "    </tr>\n",
       "    <tr>\n",
       "      <th>Ecuador</th>\n",
       "      <td>4.596527e+07</td>\n",
       "      <td>2.119200e+04</td>\n",
       "    </tr>\n",
       "    <tr>\n",
       "      <th>Egypt</th>\n",
       "      <td>1.016219e+08</td>\n",
       "      <td>3.846900e+04</td>\n",
       "    </tr>\n",
       "    <tr>\n",
       "      <th>El Salvador</th>\n",
       "      <td>2.280826e+08</td>\n",
       "      <td>2.368640e+05</td>\n",
       "    </tr>\n",
       "    <tr>\n",
       "      <th>Estonia</th>\n",
       "      <td>2.884485e+07</td>\n",
       "      <td>1.080300e+04</td>\n",
       "    </tr>\n",
       "    <tr>\n",
       "      <th>Finland</th>\n",
       "      <td>6.544559e+07</td>\n",
       "      <td>6.619450e+05</td>\n",
       "    </tr>\n",
       "    <tr>\n",
       "      <th>France</th>\n",
       "      <td>9.725458e+09</td>\n",
       "      <td>5.235219e+09</td>\n",
       "    </tr>\n",
       "    <tr>\n",
       "      <th>French Polynesia</th>\n",
       "      <td>8.970736e+06</td>\n",
       "      <td>3.635400e+04</td>\n",
       "    </tr>\n",
       "    <tr>\n",
       "      <th>Georgia</th>\n",
       "      <td>1.177477e+07</td>\n",
       "      <td>2.036000e+03</td>\n",
       "    </tr>\n",
       "    <tr>\n",
       "      <th>...</th>\n",
       "      <td>...</td>\n",
       "      <td>...</td>\n",
       "    </tr>\n",
       "    <tr>\n",
       "      <th>Peru</th>\n",
       "      <td>1.181785e+08</td>\n",
       "      <td>5.032410e+05</td>\n",
       "    </tr>\n",
       "    <tr>\n",
       "      <th>Philippines</th>\n",
       "      <td>2.837126e+08</td>\n",
       "      <td>2.164558e+07</td>\n",
       "    </tr>\n",
       "    <tr>\n",
       "      <th>Poland</th>\n",
       "      <td>7.206582e+08</td>\n",
       "      <td>1.775578e+08</td>\n",
       "    </tr>\n",
       "    <tr>\n",
       "      <th>Portugal</th>\n",
       "      <td>1.486765e+08</td>\n",
       "      <td>5.373209e+06</td>\n",
       "    </tr>\n",
       "    <tr>\n",
       "      <th>Rep. of Korea</th>\n",
       "      <td>4.068616e+09</td>\n",
       "      <td>6.188742e+08</td>\n",
       "    </tr>\n",
       "    <tr>\n",
       "      <th>Romania</th>\n",
       "      <td>3.491722e+07</td>\n",
       "      <td>6.440001e+06</td>\n",
       "    </tr>\n",
       "    <tr>\n",
       "      <th>Russian Federation</th>\n",
       "      <td>1.515902e+09</td>\n",
       "      <td>1.841734e+08</td>\n",
       "    </tr>\n",
       "    <tr>\n",
       "      <th>Saudi Arabia</th>\n",
       "      <td>2.995310e+09</td>\n",
       "      <td>3.795360e+05</td>\n",
       "    </tr>\n",
       "    <tr>\n",
       "      <th>Serbia</th>\n",
       "      <td>1.732100e+07</td>\n",
       "      <td>5.182800e+04</td>\n",
       "    </tr>\n",
       "    <tr>\n",
       "      <th>Sierra Leone</th>\n",
       "      <td>5.084900e+04</td>\n",
       "      <td>3.079500e+04</td>\n",
       "    </tr>\n",
       "    <tr>\n",
       "      <th>Singapore</th>\n",
       "      <td>5.339173e+09</td>\n",
       "      <td>8.675004e+07</td>\n",
       "    </tr>\n",
       "    <tr>\n",
       "      <th>Slovakia</th>\n",
       "      <td>2.217303e+07</td>\n",
       "      <td>1.941720e+05</td>\n",
       "    </tr>\n",
       "    <tr>\n",
       "      <th>Slovenia</th>\n",
       "      <td>4.243494e+06</td>\n",
       "      <td>1.135903e+06</td>\n",
       "    </tr>\n",
       "    <tr>\n",
       "      <th>South Africa</th>\n",
       "      <td>3.269606e+08</td>\n",
       "      <td>1.027807e+07</td>\n",
       "    </tr>\n",
       "    <tr>\n",
       "      <th>Spain</th>\n",
       "      <td>5.835770e+08</td>\n",
       "      <td>1.326996e+08</td>\n",
       "    </tr>\n",
       "    <tr>\n",
       "      <th>Sri Lanka</th>\n",
       "      <td>7.650916e+06</td>\n",
       "      <td>3.169700e+04</td>\n",
       "    </tr>\n",
       "    <tr>\n",
       "      <th>Sweden</th>\n",
       "      <td>3.000854e+08</td>\n",
       "      <td>1.211540e+08</td>\n",
       "    </tr>\n",
       "    <tr>\n",
       "      <th>Switzerland</th>\n",
       "      <td>8.705174e+08</td>\n",
       "      <td>3.066968e+08</td>\n",
       "    </tr>\n",
       "    <tr>\n",
       "      <th>Thailand</th>\n",
       "      <td>1.591976e+09</td>\n",
       "      <td>6.643020e+06</td>\n",
       "    </tr>\n",
       "    <tr>\n",
       "      <th>Tunisia</th>\n",
       "      <td>1.363097e+07</td>\n",
       "      <td>8.910530e+05</td>\n",
       "    </tr>\n",
       "    <tr>\n",
       "      <th>Turkey</th>\n",
       "      <td>2.629945e+09</td>\n",
       "      <td>2.386759e+08</td>\n",
       "    </tr>\n",
       "    <tr>\n",
       "      <th>Uganda</th>\n",
       "      <td>2.278708e+07</td>\n",
       "      <td>3.569100e+04</td>\n",
       "    </tr>\n",
       "    <tr>\n",
       "      <th>Ukraine</th>\n",
       "      <td>1.250216e+07</td>\n",
       "      <td>1.405121e+06</td>\n",
       "    </tr>\n",
       "    <tr>\n",
       "      <th>United Arab Emirates</th>\n",
       "      <td>5.260733e+09</td>\n",
       "      <td>8.916308e+06</td>\n",
       "    </tr>\n",
       "    <tr>\n",
       "      <th>United Kingdom</th>\n",
       "      <td>8.740176e+09</td>\n",
       "      <td>1.214824e+09</td>\n",
       "    </tr>\n",
       "    <tr>\n",
       "      <th>Uruguay</th>\n",
       "      <td>1.065924e+07</td>\n",
       "      <td>6.487500e+04</td>\n",
       "    </tr>\n",
       "    <tr>\n",
       "      <th>Venezuela</th>\n",
       "      <td>9.424024e+07</td>\n",
       "      <td>1.349020e+05</td>\n",
       "    </tr>\n",
       "    <tr>\n",
       "      <th>Viet Nam</th>\n",
       "      <td>7.661691e+08</td>\n",
       "      <td>7.388372e+07</td>\n",
       "    </tr>\n",
       "    <tr>\n",
       "      <th>World</th>\n",
       "      <td>1.196591e+11</td>\n",
       "      <td>3.257608e+10</td>\n",
       "    </tr>\n",
       "    <tr>\n",
       "      <th>Zambia</th>\n",
       "      <td>3.176148e+06</td>\n",
       "      <td>1.210000e+04</td>\n",
       "    </tr>\n",
       "  </tbody>\n",
       "</table>\n",
       "<p>88 rows × 2 columns</p>\n",
       "</div>"
      ],
      "text/plain": [
       "Trade Flow                 Exports       Imports\n",
       "Partner                                         \n",
       "Afghanistan           1.091941e+08  2.014400e+04\n",
       "Argentina             4.752256e+08  2.164540e+05\n",
       "Australia             2.500375e+09  4.398146e+08\n",
       "Austria               2.004885e+08  2.266043e+08\n",
       "Bahamas               4.666452e+06  4.925000e+03\n",
       "Belgium               3.811802e+08  5.153711e+07\n",
       "Belize                8.897500e+05  6.451000e+03\n",
       "Bolivia               1.236449e+08  1.837510e+05\n",
       "Br. Virgin Isds       3.410660e+05  2.628000e+03\n",
       "Brazil                4.359290e+09  2.796024e+09\n",
       "Bulgaria              5.424833e+06  4.128700e+04\n",
       "Cameroon              4.678062e+06  3.915800e+04\n",
       "Canada                6.872391e+09  8.020132e+09\n",
       "Chile                 2.935820e+09  2.958760e+05\n",
       "China                 1.430382e+10  4.552288e+08\n",
       "China, Hong Kong SAR  1.923699e+09  1.296117e+07\n",
       "Colombia              6.648323e+08  2.558490e+05\n",
       "Costa Rica            3.337291e+08  9.553970e+05\n",
       "Croatia               1.552614e+06  4.979000e+03\n",
       "Cyprus                2.573558e+07  2.039500e+04\n",
       "Czech Rep.            1.530275e+08  6.230582e+07\n",
       "Denmark               1.748187e+08  4.713222e+07\n",
       "Ecuador               4.596527e+07  2.119200e+04\n",
       "Egypt                 1.016219e+08  3.846900e+04\n",
       "El Salvador           2.280826e+08  2.368640e+05\n",
       "Estonia               2.884485e+07  1.080300e+04\n",
       "Finland               6.544559e+07  6.619450e+05\n",
       "France                9.725458e+09  5.235219e+09\n",
       "French Polynesia      8.970736e+06  3.635400e+04\n",
       "Georgia               1.177477e+07  2.036000e+03\n",
       "...                            ...           ...\n",
       "Peru                  1.181785e+08  5.032410e+05\n",
       "Philippines           2.837126e+08  2.164558e+07\n",
       "Poland                7.206582e+08  1.775578e+08\n",
       "Portugal              1.486765e+08  5.373209e+06\n",
       "Rep. of Korea         4.068616e+09  6.188742e+08\n",
       "Romania               3.491722e+07  6.440001e+06\n",
       "Russian Federation    1.515902e+09  1.841734e+08\n",
       "Saudi Arabia          2.995310e+09  3.795360e+05\n",
       "Serbia                1.732100e+07  5.182800e+04\n",
       "Sierra Leone          5.084900e+04  3.079500e+04\n",
       "Singapore             5.339173e+09  8.675004e+07\n",
       "Slovakia              2.217303e+07  1.941720e+05\n",
       "Slovenia              4.243494e+06  1.135903e+06\n",
       "South Africa          3.269606e+08  1.027807e+07\n",
       "Spain                 5.835770e+08  1.326996e+08\n",
       "Sri Lanka             7.650916e+06  3.169700e+04\n",
       "Sweden                3.000854e+08  1.211540e+08\n",
       "Switzerland           8.705174e+08  3.066968e+08\n",
       "Thailand              1.591976e+09  6.643020e+06\n",
       "Tunisia               1.363097e+07  8.910530e+05\n",
       "Turkey                2.629945e+09  2.386759e+08\n",
       "Uganda                2.278708e+07  3.569100e+04\n",
       "Ukraine               1.250216e+07  1.405121e+06\n",
       "United Arab Emirates  5.260733e+09  8.916308e+06\n",
       "United Kingdom        8.740176e+09  1.214824e+09\n",
       "Uruguay               1.065924e+07  6.487500e+04\n",
       "Venezuela             9.424024e+07  1.349020e+05\n",
       "Viet Nam              7.661691e+08  7.388372e+07\n",
       "World                 1.196591e+11  3.257608e+10\n",
       "Zambia                3.176148e+06  1.210000e+04\n",
       "\n",
       "[88 rows x 2 columns]"
      ]
     },
     "execution_count": 73,
     "metadata": {},
     "output_type": "execute_result"
    }
   ],
   "source": [
    "countries.dropna()"
   ]
  },
  {
   "cell_type": "markdown",
   "metadata": {},
   "source": [
    "## Conclusions\n",
    "\n",
    "US aerospace trade from January to December 2015 was analysed in terms of which countries the US  depends on for income (exports) and goods (imports). This industry enjoyed a positive trade balance, also known as a surplus. Over this period, the surplus had a value of over 174.2 billion US dollars. \n",
    "\n",
    "Canada is America's main aerospace trade partner. It exported to the US more than a billion more dollars worth of equipment than it imported from the US. France, Japan and Germany are also major trade partners with the US, but they imported more aircraft and parts from the US than they exported.\n",
    "\n",
    "China is an important US aircraft customer, with China importing over $14 billion worth of American aerospace products. Interestingly, the US currently has a trade embargo against China, barring it from purchasing US weapons and military technology as a reprimand for the 1989 Tienanmen Square massacre. That China can still purchase so much non-military related hardware from the United States is impressive.\n",
    "\n",
    "The US exported aerospace products to over 200 countries in 2015, but only imported from 87 countries, the main trade partners (top five by trade value) are Europe, Canada, Japan, Mexico and Brazil.\n",
    "\n",
    "The US has bi-directional trade (i.e. both exports and imports) with hundreds of countries, although for some the trade value (in US dollars) is low, which raises questions about the data's relevance.\n",
    "\n",
    "The US aircraft manufacturing industry is a vibrant and massively successful sector of the US economy. It's not only valuable for the United States, it also serves a vital role fulfilling the aviation needs of countries around the world. That so many countries have come to depend on the United States for quality aircraft and parts is a testament to this crucial industry."
   ]
  },
  {
   "cell_type": "code",
   "execution_count": null,
   "metadata": {
    "collapsed": true
   },
   "outputs": [],
   "source": []
  }
 ],
 "metadata": {
  "anaconda-cloud": {},
  "kernelspec": {
   "display_name": "Python [Root]",
   "language": "python",
   "name": "Python [Root]"
  },
  "language_info": {
   "codemirror_mode": {
    "name": "ipython",
    "version": 3
   },
   "file_extension": ".py",
   "mimetype": "text/x-python",
   "name": "python",
   "nbconvert_exporter": "python",
   "pygments_lexer": "ipython3",
   "version": "3.5.2"
  }
 },
 "nbformat": 4,
 "nbformat_minor": 0
}
